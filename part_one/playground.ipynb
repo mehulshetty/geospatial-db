{
 "cells": [
  {
   "cell_type": "code",
   "execution_count": 11,
   "metadata": {},
   "outputs": [],
   "source": [
    "from helper import euclidean_distance\n",
    "import pandas as pd\n",
    "\n",
    "def knn_linear_search(dataset: pd.DataFrame, target_id: int, k: int):\n",
    "\n",
    "    POI = dataset.loc[dataset['@id'] == target_id].iloc[0]\n",
    "\n",
    "    dataset['@dist'] = dataset.apply(lambda row: euclidean_distance(row, POI), axis=1)\n",
    "\n",
    "    top_k = dataset.nsmallest(k+1, '@dist', keep='first')\n",
    "\n",
    "    result = top_k[1:][['@id', '@dist']].values.tolist()\n",
    "\n",
    "    return result"
   ]
  },
  {
   "cell_type": "code",
   "execution_count": 12,
   "metadata": {},
   "outputs": [
    {
     "name": "stdout",
     "output_type": "stream",
     "text": [
      "[[60966879.0, 0.0005561807080380005], [6289125422.0, 0.0006834002121722835], [1472576.0, 0.0006984410426108052], [6289126393.0, 0.0007019880412038678], [25603734.0, 0.0017121146018879187], [1718695464.0, 0.001778855615276942], [10553098184.0, 0.0017935517946225787]]\n"
     ]
    }
   ],
   "source": [
    "df = pd.read_csv('../dataset/clean_nyc_dataset.csv')\n",
    "res = knn_linear_search(df, 1473070, 7)\n",
    "print(res)"
   ]
  }
 ],
 "metadata": {
  "kernelspec": {
   "display_name": "base",
   "language": "python",
   "name": "python3"
  },
  "language_info": {
   "codemirror_mode": {
    "name": "ipython",
    "version": 3
   },
   "file_extension": ".py",
   "mimetype": "text/x-python",
   "name": "python",
   "nbconvert_exporter": "python",
   "pygments_lexer": "ipython3",
   "version": "3.10.13"
  }
 },
 "nbformat": 4,
 "nbformat_minor": 2
}
